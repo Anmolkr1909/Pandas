{
  "nbformat": 4,
  "nbformat_minor": 0,
  "metadata": {
    "colab": {
      "provenance": [],
      "authorship_tag": "ABX9TyPGxinf66jKDupxfKU6GE4d",
      "include_colab_link": true
    },
    "kernelspec": {
      "name": "python3",
      "display_name": "Python 3"
    },
    "language_info": {
      "name": "python"
    }
  },
  "cells": [
    {
      "cell_type": "markdown",
      "metadata": {
        "id": "view-in-github",
        "colab_type": "text"
      },
      "source": [
        "<a href=\"https://colab.research.google.com/github/Anmolkr1909/Pandas/blob/main/pandas.ipynb\" target=\"_parent\"><img src=\"https://colab.research.google.com/assets/colab-badge.svg\" alt=\"Open In Colab\"/></a>"
      ]
    },
    {
      "cell_type": "markdown",
      "source": [
        "# Pandas\n",
        "\n",
        "---\n",
        "\n",
        "\n",
        "\n",
        "---\n",
        "\n"
      ],
      "metadata": {
        "id": "l9SYT8jPrt2G"
      }
    },
    {
      "cell_type": "markdown",
      "source": [
        "  #   101) Student Marks Record System for a School\n",
        "\n",
        "\n",
        "*  You are a school data entry operator\n",
        "*  You have been given the marks of 5 students in 3 subjects\n",
        "*  Task is :\n",
        "\n",
        "    1) Store the data properly\n",
        "\n",
        "    2) Check if it’s correctly entered\n",
        "\n",
        "      3) Show summary for school performance\n",
        "\n",
        "\n",
        "*  School principal wants a summary report:\n",
        "\n",
        "   1) First few records for checking\n",
        "\n",
        "    2) Column names and data types\n",
        "\n",
        "     3) Statistics like average, min, max marks in each subject"
      ],
      "metadata": {
        "id": "GjxoUtdUrpzR"
      }
    },
    {
      "cell_type": "code",
      "source": [
        "import pandas as pd\n",
        "\n",
        "#Data Entry  Marks given by teachers\n",
        "student_data = {\n",
        "    'Student Name': ['Anmol Maddeshiya', 'Riya Singh', 'khan sir', 'Priya Verma', 'Amit Patel'],\n",
        "    'Math Marks': [88, 92, 79, 85, 90],\n",
        "    'Science Marks': [84, 95, 80, 86, 88],\n",
        "    'English Marks': [90, 89, 78, 80, 85]\n",
        "}\n",
        "\n",
        "#Store in a DataFrame (like an Excel table)\n",
        "df = pd.DataFrame(student_data)\n",
        "print(pd.DataFrame(student_data))\n",
        "\n",
        "# Print first 3 records to verify entries\n",
        "print(\"First 3 Student Records:\")\n",
        "print(df.head(3))  # School admin checking first few entries\n",
        "\n",
        "#Show structure and types of data (like quality check)\n",
        "print(\"\\nDataFrame Info:\")\n",
        "print(df.info())\n",
        "\n",
        "#Show subject-wise summary (school report)\n",
        "print(\"\\nSubject-wise Summary Statistics:\")\n",
        "print(df.describe())\n"
      ],
      "metadata": {
        "colab": {
          "base_uri": "https://localhost:8080/"
        },
        "id": "L5IdaZqMunDK",
        "outputId": "df13fd5e-c66c-4eaa-b060-81334586452d"
      },
      "execution_count": null,
      "outputs": [
        {
          "output_type": "stream",
          "name": "stdout",
          "text": [
            "       Student Name  Math Marks  Science Marks  English Marks\n",
            "0  Anmol Maddeshiya          88             84             90\n",
            "1        Riya Singh          92             95             89\n",
            "2          khan sir          79             80             78\n",
            "3       Priya Verma          85             86             80\n",
            "4        Amit Patel          90             88             85\n",
            "First 3 Student Records:\n",
            "       Student Name  Math Marks  Science Marks  English Marks\n",
            "0  Anmol Maddeshiya          88             84             90\n",
            "1        Riya Singh          92             95             89\n",
            "2          khan sir          79             80             78\n",
            "\n",
            "DataFrame Info:\n",
            "<class 'pandas.core.frame.DataFrame'>\n",
            "RangeIndex: 5 entries, 0 to 4\n",
            "Data columns (total 4 columns):\n",
            " #   Column         Non-Null Count  Dtype \n",
            "---  ------         --------------  ----- \n",
            " 0   Student Name   5 non-null      object\n",
            " 1   Math Marks     5 non-null      int64 \n",
            " 2   Science Marks  5 non-null      int64 \n",
            " 3   English Marks  5 non-null      int64 \n",
            "dtypes: int64(3), object(1)\n",
            "memory usage: 292.0+ bytes\n",
            "None\n",
            "\n",
            "Subject-wise Summary Statistics:\n",
            "       Math Marks  Science Marks  English Marks\n",
            "count    5.000000       5.000000       5.000000\n",
            "mean    86.800000      86.600000      84.400000\n",
            "std      5.069517       5.549775       5.319774\n",
            "min     79.000000      80.000000      78.000000\n",
            "25%     85.000000      84.000000      80.000000\n",
            "50%     88.000000      86.000000      85.000000\n",
            "75%     90.000000      88.000000      89.000000\n",
            "max     92.000000      95.000000      90.000000\n"
          ]
        }
      ]
    },
    {
      "cell_type": "markdown",
      "source": [
        "\n",
        "\n",
        "---\n",
        "\n"
      ],
      "metadata": {
        "id": "yyEXKnGW3tRT"
      }
    },
    {
      "cell_type": "markdown",
      "source": [
        " #  102) Student Report Query System for School Portal\n",
        "\n",
        "*  You're building a backend for a school web portal. Teachers use it to:\n",
        "\n",
        "   1) Fetch individual student marks\n",
        "\n",
        "    2) View marks of specific subjects\n",
        "\n",
        "    3) Display custom reports (first 3 students, only names & Science)\n",
        "\n",
        "    4) Access specific subject for a specific student\n",
        "\n",
        "    5) Preview all student names and English marks\n",
        "*   Mimic real school queries\n",
        "\n",
        "\n"
      ],
      "metadata": {
        "id": "EwxFfBe7wQvz"
      }
    },
    {
      "cell_type": "code",
      "source": [
        "import pandas as pd\n",
        "\n",
        "#student Data\n",
        "data = {\n",
        "    'Student Name': ['Anmol Maddeshiya', 'Riya Singh', 'Kajal', 'Priya Verma', 'Amit Patel'],\n",
        "     'Math':  [88, 92, 79, 85, 90],\n",
        "     'Science': [84, 95, 80, 86, 88],\n",
        "     'English': [90, 89, 78, 80, 85]\n",
        "}\n",
        "\n",
        "df =  pd.DataFrame(data)\n",
        "print(pd.DataFrame(data))\n",
        "\n",
        "# Select a single column (like English marks of all students)\n",
        "print(\"English Marks of All Students:\")\n",
        "print(df['English'])\n",
        "\n",
        "# Select multiple columns (Math and Science)\n",
        "print(\"\\nMath & Science Marks:\")\n",
        "print(df[['Math', 'Science']])\n",
        "\n",
        "# Select row by label using loc (get all info of 'Riya Singh')\n",
        "print(\"All Details of Student at Index 1 (Riya Singh):\")\n",
        "print(df.loc[1])  # 1 is index of Riya\n",
        "\n",
        "# Select value by label: English marks of  Kajal (index 2)\n",
        "print(\"\\n English Marks of kajal:\")\n",
        "print(df.loc[2, 'English'])\n",
        "\n",
        "# Select value by position using iloc: Science marks of Priya Verma\n",
        "print(\"\\nScience Marks of Priya Verma (index 3):\")\n",
        "print(df.iloc[3, 2])  # Row 3, Column 2 (Science)\n",
        "\n",
        "# Select all students and only English column using loc\n",
        "print(\"\\nAll Students - Only English Marks:\")\n",
        "print(df.loc[:, 'English'])\n",
        "\n",
        "#Select first 3 students' names and their Math marks using iloc\n",
        "print(\"\\n First 3 Students - Names & Math Marks:\")\n",
        "print(df.iloc[0:3, [0, 1]])  # Rows 0 to 2, Columns 0 (name) and 1 (math)\n"
      ],
      "metadata": {
        "colab": {
          "base_uri": "https://localhost:8080/"
        },
        "id": "CS-cx-x9zLLJ",
        "outputId": "eb72bef7-c166-4d7f-aeba-43b740d67751"
      },
      "execution_count": null,
      "outputs": [
        {
          "output_type": "stream",
          "name": "stdout",
          "text": [
            "       Student Name  Math  Science  English\n",
            "0  Anmol Maddeshiya    88       84       90\n",
            "1        Riya Singh    92       95       89\n",
            "2             Kajal    79       80       78\n",
            "3       Priya Verma    85       86       80\n",
            "4        Amit Patel    90       88       85\n",
            "English Marks of All Students:\n",
            "0    90\n",
            "1    89\n",
            "2    78\n",
            "3    80\n",
            "4    85\n",
            "Name: English, dtype: int64\n",
            "\n",
            "Math & Science Marks:\n",
            "   Math  Science\n",
            "0    88       84\n",
            "1    92       95\n",
            "2    79       80\n",
            "3    85       86\n",
            "4    90       88\n",
            "All Details of Student at Index 1 (Riya Singh):\n",
            "Student Name    Riya Singh\n",
            "Math                    92\n",
            "Science                 95\n",
            "English                 89\n",
            "Name: 1, dtype: object\n",
            "\n",
            " English Marks of kajal:\n",
            "78\n",
            "\n",
            "Science Marks of Priya Verma (index 3):\n",
            "86\n",
            "\n",
            "All Students - Only English Marks:\n",
            "0    90\n",
            "1    89\n",
            "2    78\n",
            "3    80\n",
            "4    85\n",
            "Name: English, dtype: int64\n",
            "\n",
            " First 3 Students - Names & Math Marks:\n",
            "       Student Name  Math\n",
            "0  Anmol Maddeshiya    88\n",
            "1        Riya Singh    92\n",
            "2             Kajal    79\n"
          ]
        }
      ]
    },
    {
      "cell_type": "markdown",
      "source": [
        "\n",
        "\n",
        "---\n",
        "\n"
      ],
      "metadata": {
        "id": "58wo3X2C431_"
      }
    },
    {
      "cell_type": "markdown",
      "source": [
        "# 103) \"Scholarship Eligibility System\" for School Admin\n",
        "\n",
        "*   The school management wants to automatically filter students for the following:\n",
        "\n",
        "   1) Scholarship eligibility (all subjects > 85)\n",
        "\n",
        "   2) Re-test candidates (any subject < 80)\n",
        "\n",
        "     3)  Top performers in Math (Math > 90)\n",
        "\n"
      ],
      "metadata": {
        "id": "ntPi0bBG44YC"
      }
    },
    {
      "cell_type": "code",
      "source": [
        "import pandas as pd\n",
        "\n",
        "# Student data from recent exams\n",
        "students = {\n",
        "    'Student Name': ['Anmol Kumar', 'Riya Singh', 'Kajal', 'Priya Verma', 'Amit Patel', 'Neha Raj'],\n",
        "    'Math Marks': [88, 95, 79, 85, 91, 98],\n",
        "    'Science Marks': [84, 96, 80, 86, 88, 89],\n",
        "    'English Marks': [90, 91, 78, 80, 85, 87]\n",
        "}\n",
        "\n",
        "# Load into DataFrame\n",
        "df = pd.DataFrame(students)\n",
        "\n",
        "#Scholarship: All subject marks > 85\n",
        "print(\"Scholarship Eligible Students (All subjects > 85):\")\n",
        "scholarship_students = df[(df['Math Marks'] > 85) & (df['Science Marks'] > 85) & (df['English Marks'] > 85)]\n",
        "print(scholarship_students)\n",
        "\n",
        "# Re-test Candidates: Any subject mark < 80\n",
        "print(\"\\nRe-test Candidates (Any subject < 80):\")\n",
        "retest_students = df[(df['Math Marks'] < 80) | (df['Science Marks'] < 80) | (df['English Marks'] < 80)]\n",
        "print(retest_students)\n",
        "\n",
        "# Top Performers in Math: Math > 90\n",
        "print(\"\\nTop Math Performers (Math > 90):\")\n",
        "top_math_students = df[df['Math Marks'] > 90]\n",
        "print(top_math_students)\n"
      ],
      "metadata": {
        "colab": {
          "base_uri": "https://localhost:8080/"
        },
        "id": "BraOjMdq3oim",
        "outputId": "2084c1b5-a146-4e7a-cad6-7bb24a616615"
      },
      "execution_count": null,
      "outputs": [
        {
          "output_type": "stream",
          "name": "stdout",
          "text": [
            "Scholarship Eligible Students (All subjects > 85):\n",
            "  Student Name  Math Marks  Science Marks  English Marks\n",
            "1   Riya Singh          95             96             91\n",
            "5     Neha Raj          98             89             87\n",
            "\n",
            "Re-test Candidates (Any subject < 80):\n",
            "  Student Name  Math Marks  Science Marks  English Marks\n",
            "2        Kajal          79             80             78\n",
            "\n",
            "Top Math Performers (Math > 90):\n",
            "  Student Name  Math Marks  Science Marks  English Marks\n",
            "1   Riya Singh          95             96             91\n",
            "4   Amit Patel          91             88             85\n",
            "5     Neha Raj          98             89             87\n"
          ]
        }
      ]
    },
    {
      "cell_type": "markdown",
      "source": [
        "\n",
        "\n",
        "\n",
        "---\n",
        "\n"
      ],
      "metadata": {
        "id": "ETqJKuK_mzka"
      }
    },
    {
      "cell_type": "markdown",
      "source": [
        "#  104) \"UP Board Style Report Card Generator\"\n",
        "\n",
        "*   A school admin from Gorakhpur (UP) wants a system that:\n",
        "\n",
        "*  Takes marks of students from 5 subjects\n",
        "\n",
        "  1) Calculates:\n",
        "\n",
        "   2) Total Marks\n",
        "\n",
        "    3)  Percentage\n",
        "\n",
        "      4)  Pass/Fail (Fail if any subject < 33)\n",
        "\n",
        "*  Division:\n",
        "\n",
        "    1)  First: ≥ 60%\n",
        "\n",
        "     2) Second: 45–59%\n",
        "\n",
        "      3)  Third: 33–44%\n",
        "\n",
        "     4) Fail: < 33% or any subject failed\n",
        "\n"
      ],
      "metadata": {
        "id": "MQoz2LbS6583"
      }
    },
    {
      "cell_type": "code",
      "source": [
        "import pandas as pd\n",
        "\n",
        "# Student marks in 5 subjects (out of 100)\n",
        "students = {\n",
        "    'Student Name': ['Anmol Kumar', 'Ravi Gupta', 'Pooja Kumari', 'Deepak Singh', 'Riya Singh', 'Aman Verma'],\n",
        "    'Hindi': [78, 65, 80, 35, 90, 30],\n",
        "    'English': [81, 72, 45, 40, 85, 70],\n",
        "    'Math': [88, 33, 55, 75, 92, 29],\n",
        "    'Science': [77, 55, 67, 50, 89, 60],\n",
        "    'SST': [70, 60, 40, 38, 91, 55]\n",
        "}\n",
        "\n",
        "df = pd.DataFrame(students)\n",
        "print(pd.DataFrame(students))\n",
        "\n",
        "# Total & Percentage\n",
        "df['Total Marks'] = df[['Hindi', 'English', 'Math', 'Science', 'SST']].sum(axis=1)\n",
        "df['Percentage'] = round(df['Total Marks'] / 5, 2)\n",
        "\n",
        "#Pass/Fail (any subject < 33 means fail)\n",
        "def check_pass(row):\n",
        "    if (row['Hindi'] < 33 or row['English'] < 33 or row['Math'] < 33 or row['Science'] < 33 or row['SST'] < 33):\n",
        "        return 'Fail'\n",
        "    else:\n",
        "        return 'Pass'\n",
        "\n",
        "df['Result'] = df.apply(check_pass, axis=1)\n",
        "\n",
        "# Step 4: Assign Division\n",
        "def division(row):\n",
        "    if row['Result'] == 'Fail':\n",
        "        return 'Fail'\n",
        "    elif row['Percentage'] >= 60:\n",
        "        return 'First'\n",
        "    elif row['Percentage'] >= 45:\n",
        "        return 'Second'\n",
        "    elif row['Percentage'] >= 33:\n",
        "        return 'Third'\n",
        "    else:\n",
        "        return 'Fail'\n",
        "\n",
        "df['Division'] = df.apply(division, axis=1)\n",
        "\n",
        "# Step 5: Final Report Card\n",
        "print(\"UP Board Style Report Card:\")\n",
        "print(df[['Student Name', 'Total Marks', 'Percentage', 'Result', 'Division']])\n"
      ],
      "metadata": {
        "colab": {
          "base_uri": "https://localhost:8080/"
        },
        "id": "NZzVJOPM80kG",
        "outputId": "2f590e7e-feee-4592-82a8-023b93b02419"
      },
      "execution_count": null,
      "outputs": [
        {
          "output_type": "stream",
          "name": "stdout",
          "text": [
            "   Student Name  Hindi  English  Math  Science  SST\n",
            "0   Anmol Kumar     78       81    88       77   70\n",
            "1    Ravi Gupta     65       72    33       55   60\n",
            "2  Pooja Kumari     80       45    55       67   40\n",
            "3  Deepak Singh     35       40    75       50   38\n",
            "4    Riya Singh     90       85    92       89   91\n",
            "5    Aman Verma     30       70    29       60   55\n",
            "UP Board Style Report Card:\n",
            "   Student Name  Total Marks  Percentage Result Division\n",
            "0   Anmol Kumar          394        78.8   Pass    First\n",
            "1    Ravi Gupta          285        57.0   Pass   Second\n",
            "2  Pooja Kumari          287        57.4   Pass   Second\n",
            "3  Deepak Singh          238        47.6   Pass   Second\n",
            "4    Riya Singh          447        89.4   Pass    First\n",
            "5    Aman Verma          244        48.8   Fail     Fail\n"
          ]
        }
      ]
    },
    {
      "cell_type": "markdown",
      "source": [
        "\n",
        "\n",
        "---\n",
        "\n",
        "\n",
        "\n",
        "\n"
      ],
      "metadata": {
        "id": "K1LTaa6n-q8U"
      }
    },
    {
      "cell_type": "markdown",
      "source": [
        "#  105) School Attendance Tracker\n",
        "\n",
        "\n",
        "*  Topics\n",
        "\n",
        "   1) isnull(), fillna(), dropna()\n",
        "\n",
        "   2) pd.to_datetime()\n",
        "\n",
        "   3) Conditional logic\n",
        "   \n",
        "    4) sort_values()\n",
        "\n",
        "*  A school in Salempur(Little Flower school) is maintaining a daily attendance sheet for students. Sometimes, teachers forget to mark attendance — which leads to missing values (NaN). We need to:\n",
        "\n",
        "*  Fill missing entries with \"Absent\"\n",
        "\n",
        "   1) Convert \"Date\" column to proper datetime\n",
        "\n",
        "    2) Show absent students on any given day\n",
        "\n",
        "    3)  Sort records by date\n",
        "\n"
      ],
      "metadata": {
        "id": "94WA4jsP_C2W"
      }
    },
    {
      "cell_type": "code",
      "source": [
        "import pandas as pd\n",
        "\n",
        "# Create attendance data with some missing entries\n",
        "data = {\n",
        "    'Date': ['2025-06-15', '2025-06-15', '2025-06-15',\n",
        "             '2025-06-16', '2025-06-16',\n",
        "             '2025-06-17'],\n",
        "\n",
        "    'Student Name': ['Anmol Kumar', 'Ravi Gupta', 'Riya Singh',\n",
        "                     'Ravi Gupta', 'Riya Singh',\n",
        "                     'Anmol Kumar'],\n",
        "\n",
        "    'Status': ['Present', None, 'Present',\n",
        "               'Absent', None,\n",
        "               'Present']\n",
        "}\n",
        "\n",
        "#create DataFrame\n",
        "df = pd.DataFrame(data)\n",
        "\n",
        "#convert 'Date' column to datetime format\n",
        "df['Date'] = pd.to_datetime(df['Date'])\n",
        "\n",
        "# fill missing status entries with 'Absent'\n",
        "df['Status'] = df['Status'].fillna('Absent')\n",
        "\n",
        "# Display the full cleaned attendance sheet\n",
        "print(\"Cleaned Attendance Sheet:\")\n",
        "print(df)\n",
        "\n",
        "#Filter and display students who were absent on 2025-06-15\n",
        "absent_15 = df[(df['Date'] == '2025-06-15') & (df['Status'] == 'Absent')]\n",
        "print(\"\\nStudents absent on 15th June 2025:\")\n",
        "print(absent_15[['Student Name']])\n",
        "\n",
        "# Sort the DataFrame by date\n",
        "sorted_df = df.sort_values(by='Date')\n",
        "\n",
        "#display the sorted attendance\n",
        "print(\"\\nAttendance sorted by date:\")\n",
        "print(sorted_df[['Date', 'Student Name', 'Status']])\n"
      ],
      "metadata": {
        "colab": {
          "base_uri": "https://localhost:8080/"
        },
        "id": "dEwhM8y1S7-E",
        "outputId": "2beaff7b-89df-4987-ae92-6d94c647c4b6"
      },
      "execution_count": null,
      "outputs": [
        {
          "output_type": "stream",
          "name": "stdout",
          "text": [
            "Cleaned Attendance Sheet:\n",
            "        Date Student Name   Status\n",
            "0 2025-06-15  Anmol Kumar  Present\n",
            "1 2025-06-15   Ravi Gupta   Absent\n",
            "2 2025-06-15   Riya Singh  Present\n",
            "3 2025-06-16   Ravi Gupta   Absent\n",
            "4 2025-06-16   Riya Singh   Absent\n",
            "5 2025-06-17  Anmol Kumar  Present\n",
            "\n",
            "Students absent on 15th June 2025:\n",
            "  Student Name\n",
            "1   Ravi Gupta\n",
            "\n",
            "Attendance sorted by date:\n",
            "        Date Student Name   Status\n",
            "0 2025-06-15  Anmol Kumar  Present\n",
            "1 2025-06-15   Ravi Gupta   Absent\n",
            "2 2025-06-15   Riya Singh  Present\n",
            "3 2025-06-16   Ravi Gupta   Absent\n",
            "4 2025-06-16   Riya Singh   Absent\n",
            "5 2025-06-17  Anmol Kumar  Present\n"
          ]
        }
      ]
    },
    {
      "cell_type": "markdown",
      "source": [
        "\n",
        "\n",
        "---\n",
        "\n"
      ],
      "metadata": {
        "id": "CJTt5R7YW2ox"
      }
    },
    {
      "cell_type": "markdown",
      "source": [],
      "metadata": {
        "id": "yRPvg8T9W2ml"
      }
    },
    {
      "cell_type": "markdown",
      "source": [
        "# 106)  Class-Wise Result Analyzer (Government School,Deoria)\n",
        "\n",
        "*   A school clerk in a Deoria (U.P) government school maintains exam results in excel\n",
        "\n",
        "*  Reads students' marks\n",
        "\n",
        "* Shows average, highest, and lowest marks per class\n",
        "\n",
        "*  Shows how many students are in each class\n",
        "\n"
      ],
      "metadata": {
        "id": "glGBd8-5MRAA"
      }
    },
    {
      "cell_type": "code",
      "source": [
        "import pandas as pd\n",
        "\n",
        "# Create sample result data for real-world scenario\n",
        "data = {\n",
        "    'Student Name': ['Anmol Kumar', 'Ravi Gupta', 'Riya Kumari', 'Sunita Devi', 'Shubham Jha', 'Deepak Yadav', 'Komal Singh'],\n",
        "    'Class': ['10A', '10A', '10B', '10B', '10A', '10C', '10C'],\n",
        "    'Marks': [72, 65, 88, 73, 54, 80, 92]\n",
        "}\n",
        "\n",
        "# Create DataFrame\n",
        "df = pd.DataFrame(data)\n",
        "print(df)\n",
        "\n",
        "# Group by Class and calculate average marks\n",
        "average_marks = df.groupby('Class')['Marks'].mean()\n",
        "\n",
        "# Group by Class and count students\n",
        "student_count = df.groupby('Class')['Student Name'].count()\n",
        "\n",
        "# Group by Class and find maximum marks\n",
        "max_marks = df.groupby('Class')['Marks'].max()\n",
        "\n",
        "# Group by Class and find minimum marks\n",
        "min_marks = df.groupby('Class')['Marks'].min()\n",
        "\n",
        "# Print average marks per class\n",
        "print(\"Average Marks per Class:\")\n",
        "print(average_marks)\n",
        "\n",
        "# Print number of students in each class\n",
        "print(\"\\nNumber of Students per Class:\")\n",
        "print(student_count)\n",
        "\n",
        "# Print highest marks per class\n",
        "print(\"\\nHighest Marks per Class:\")\n",
        "print(max_marks)\n",
        "\n",
        "# Print lowest marks per class\n",
        "print(\"\\nLowest Marks per Class:\")\n",
        "print(min_marks)\n"
      ],
      "metadata": {
        "colab": {
          "base_uri": "https://localhost:8080/"
        },
        "id": "4WNPN44SW31e",
        "outputId": "5cda3b61-44e0-4ef4-9bf0-a32d71ff9085"
      },
      "execution_count": null,
      "outputs": [
        {
          "output_type": "stream",
          "name": "stdout",
          "text": [
            "   Student Name Class  Marks\n",
            "0   Anmol Kumar   10A     72\n",
            "1    Ravi Gupta   10A     65\n",
            "2   Riya Kumari   10B     88\n",
            "3   Sunita Devi   10B     73\n",
            "4   Shubham Jha   10A     54\n",
            "5  Deepak Yadav   10C     80\n",
            "6   Komal Singh   10C     92\n",
            "Average Marks per Class:\n",
            "Class\n",
            "10A    63.666667\n",
            "10B    80.500000\n",
            "10C    86.000000\n",
            "Name: Marks, dtype: float64\n",
            "\n",
            "Number of Students per Class:\n",
            "Class\n",
            "10A    3\n",
            "10B    2\n",
            "10C    2\n",
            "Name: Student Name, dtype: int64\n",
            "\n",
            "Highest Marks per Class:\n",
            "Class\n",
            "10A    72\n",
            "10B    88\n",
            "10C    92\n",
            "Name: Marks, dtype: int64\n",
            "\n",
            "Lowest Marks per Class:\n",
            "Class\n",
            "10A    54\n",
            "10B    73\n",
            "10C    80\n",
            "Name: Marks, dtype: int64\n"
          ]
        }
      ]
    },
    {
      "cell_type": "markdown",
      "source": [
        "\n",
        "\n",
        "---\n",
        "\n",
        "\n",
        "\n",
        "\n",
        "\n"
      ],
      "metadata": {
        "id": "yL9Ah0fYYPio"
      }
    },
    {
      "cell_type": "markdown",
      "source": [
        "# 107) COVID Case Analysis\n",
        "*  You are helping the District Health Office in Gorakhpur(UP) analyze daily\n",
        "*   COVID cases from a CSV report\n",
        " *  You need to read the file, and then show:\n",
        "\n",
        "*   Total cases by state\n",
        "\n",
        "*  Top 5 states with the highest cases\n",
        "\n",
        "*   Total confirmed, recovered, and death cases\n"
      ],
      "metadata": {
        "id": "nRDsCuMmYsfb"
      }
    },
    {
      "cell_type": "code",
      "source": [
        "import pandas as pd\n",
        "\n",
        "# Simulated COVID data ( from  CSV file)\n",
        "data = {\n",
        "    'State': ['Uttar Pradesh', 'Bihar', 'Delhi', 'Uttar Pradesh', 'Bihar', 'Delhi', 'Maharashtra'],\n",
        "    'Date': ['2025-06-15', '2025-06-15', '2025-06-15', '2025-06-16', '2025-06-16', '2025-06-16', '2025-06-16'],\n",
        "    'Confirmed': [120, 80, 300, 140, 90, 350, 400],\n",
        "    'Recovered': [100, 70, 250, 120, 80, 300, 370],\n",
        "    'Deaths': [5, 2, 10, 6, 3, 12, 15]\n",
        "}\n",
        "\n",
        "# Create DataFrame\n",
        "df = pd.DataFrame(data)\n",
        "print(df)\n",
        "\n",
        "\n",
        "# Convert 'Date' column to datetime format\n",
        "df['Date'] = pd.to_datetime(df['Date'])\n",
        "\n",
        "# Group by State and sum all numerical columns\n",
        "state_summary = df.groupby('State')[['Confirmed', 'Recovered', 'Deaths']].sum()\n",
        "\n",
        "# Sort states by total confirmed cases in descending order\n",
        "top_states = state_summary.sort_values(by='Confirmed', ascending=False)\n",
        "\n",
        "# Print full summary per state\n",
        "print(\"COVID Summary by State:\")\n",
        "print(state_summary)\n",
        "\n",
        "# Print top 5 states with highest total confirmed cases\n",
        "print(\"\\nTop States by Confirmed Cases:\")\n",
        "print(top_states.head(5))\n"
      ],
      "metadata": {
        "colab": {
          "base_uri": "https://localhost:8080/"
        },
        "id": "Pi6Chx-ZZXob",
        "outputId": "59978fcc-14c1-4eae-e2ce-57b39d7b9b7c"
      },
      "execution_count": null,
      "outputs": [
        {
          "output_type": "stream",
          "name": "stdout",
          "text": [
            "           State        Date  Confirmed  Recovered  Deaths\n",
            "0  Uttar Pradesh  2025-06-15        120        100       5\n",
            "1          Bihar  2025-06-15         80         70       2\n",
            "2          Delhi  2025-06-15        300        250      10\n",
            "3  Uttar Pradesh  2025-06-16        140        120       6\n",
            "4          Bihar  2025-06-16         90         80       3\n",
            "5          Delhi  2025-06-16        350        300      12\n",
            "6    Maharashtra  2025-06-16        400        370      15\n",
            "COVID Summary by State:\n",
            "               Confirmed  Recovered  Deaths\n",
            "State                                      \n",
            "Bihar                170        150       5\n",
            "Delhi                650        550      22\n",
            "Maharashtra          400        370      15\n",
            "Uttar Pradesh        260        220      11\n",
            "\n",
            "Top States by Confirmed Cases:\n",
            "               Confirmed  Recovered  Deaths\n",
            "State                                      \n",
            "Delhi                650        550      22\n",
            "Maharashtra          400        370      15\n",
            "Uttar Pradesh        260        220      11\n",
            "Bihar                170        150       5\n"
          ]
        }
      ]
    },
    {
      "cell_type": "markdown",
      "source": [
        "\n",
        "\n",
        "---\n",
        "\n"
      ],
      "metadata": {
        "id": "vlWFEK4ceDFV"
      }
    },
    {
      "cell_type": "markdown",
      "source": [
        "# 108) Monthly Sales Report\n",
        "\n",
        "*   I am hired by a supermarket in Noida (NCR).\n",
        "*  The manager wants to know:\n",
        "\n",
        "   * Total sales made each month\n",
        "\n",
        "  * Sales breakdown by product and month\n",
        "\n",
        "  *   Which month had the highest sales\n",
        "\n",
        "*  This is how shopkeepers, malls, and even Amazon sellers review their monthly data."
      ],
      "metadata": {
        "id": "TQfo4ZlIe4LA"
      }
    },
    {
      "cell_type": "code",
      "source": [
        "import pandas as pd\n",
        "\n",
        "# Sample sales data of a real shop\n",
        "data = {\n",
        "    'Date': ['2025-01-05', '2025-01-12', '2025-02-03', '2025-02-15', '2025-03-10', '2025-03-22'],\n",
        "    'Product': ['Soap', 'Shampoo', 'Soap', 'Shampoo', 'Toothpaste', 'Soap'],\n",
        "    'Amount': [120, 200, 150, 220, 180, 140]\n",
        "}\n",
        "\n",
        "# Create DataFrame\n",
        "df = pd.DataFrame(data)\n",
        "print(df)\n",
        "\n",
        "# Convert date column to datetime\n",
        "df['Date'] = pd.to_datetime(df['Date'])\n",
        "\n",
        "# Extract month name from date\n",
        "df['Month'] = df['Date'].dt.strftime('%B')\n",
        "\n",
        "# Create pivot table to show sales by product and month\n",
        "pivot = pd.pivot_table(df, values='Amount', index='Product', columns='Month', aggfunc='sum', fill_value=0)\n",
        "\n",
        "# Show monthly total sales\n",
        "monthly_total = df.groupby('Month')['Amount'].sum()\n",
        "\n",
        "# Show the final pivot table\n",
        "print(\"Sales by Product and Month:\")\n",
        "print(pivot)\n",
        "\n",
        "# Show total sales for each month\n",
        "print(\"\\nTotal Sales per Month:\")\n",
        "print(monthly_total)\n"
      ],
      "metadata": {
        "colab": {
          "base_uri": "https://localhost:8080/"
        },
        "id": "Qa9l0auPgkty",
        "outputId": "786b0375-b063-4366-e447-f1c6acb9dd09"
      },
      "execution_count": null,
      "outputs": [
        {
          "output_type": "stream",
          "name": "stdout",
          "text": [
            "         Date     Product  Amount\n",
            "0  2025-01-05        Soap     120\n",
            "1  2025-01-12     Shampoo     200\n",
            "2  2025-02-03        Soap     150\n",
            "3  2025-02-15     Shampoo     220\n",
            "4  2025-03-10  Toothpaste     180\n",
            "5  2025-03-22        Soap     140\n",
            "Sales by Product and Month:\n",
            "Month       February  January  March\n",
            "Product                             \n",
            "Shampoo          220      200      0\n",
            "Soap             150      120    140\n",
            "Toothpaste         0        0    180\n",
            "\n",
            "Total Sales per Month:\n",
            "Month\n",
            "February    370\n",
            "January     320\n",
            "March       320\n",
            "Name: Amount, dtype: int64\n"
          ]
        }
      ]
    },
    {
      "cell_type": "markdown",
      "source": [
        "\n",
        "\n",
        "---\n",
        "\n"
      ],
      "metadata": {
        "id": "JjE0yW5rmtzN"
      }
    },
    {
      "cell_type": "markdown",
      "source": [
        "#  109)  Student Performance Report\n",
        "*  At Gautam Buddh University in Gautam Budh Nagar, Internal marks of students are recorded for Maths, Science, and English\n",
        "\n",
        "\n",
        "*  Calculate total marks\n",
        "bold text\n",
        "*  Assign grades (A, B, or C) based on total\n",
        "\n",
        "\n",
        "\n"
      ],
      "metadata": {
        "id": "DBaaLrApjO-z"
      }
    },
    {
      "cell_type": "code",
      "source": [
        "import pandas as pd\n",
        "\n",
        "#marks data of students from Gautam Buddh University\n",
        "data = {\n",
        "    'Student Name': ['Anmol Kumar', 'Deepak Yadav', 'Riya Kumari', 'Pooja Singh'],\n",
        "    'Maths': [78, 55, 92, 60],\n",
        "    'Science': [82, 60, 85, 70],\n",
        "    'English': [75, 52, 88, 65]\n",
        "}\n",
        "\n",
        "#create DataFrame\n",
        "df = pd.DataFrame(data)\n",
        "\n",
        "#function to calculate total marks and assign grade\n",
        "def calculate_grade(row):\n",
        "    total = row['Maths'] + row['Science'] + row['English']\n",
        "    if total >= 250:\n",
        "        grade = 'A'\n",
        "    elif total >= 200:\n",
        "        grade = 'B'\n",
        "    else:\n",
        "        grade = 'C'\n",
        "    return pd.Series([total, grade])\n",
        "\n",
        "#apply function row-wise\n",
        "df[['Total Marks', 'Grade']] = df.apply(calculate_grade, axis=1)\n",
        "\n",
        "#final student performance report\n",
        "print(\"Student Performance Report – Gautam Buddh University\")\n",
        "print(df)\n"
      ],
      "metadata": {
        "colab": {
          "base_uri": "https://localhost:8080/"
        },
        "id": "Qr2uvyIKjqd3",
        "outputId": "0c299061-98a0-41e9-e2dd-ce42c4f1d50b"
      },
      "execution_count": null,
      "outputs": [
        {
          "output_type": "stream",
          "name": "stdout",
          "text": [
            "Student Performance Report – Gautam Buddh University\n",
            "   Student Name  Maths  Science  English  Total Marks Grade\n",
            "0   Anmol Kumar     78       82       75          235     B\n",
            "1  Deepak Yadav     55       60       52          167     C\n",
            "2   Riya Kumari     92       85       88          265     A\n",
            "3   Pooja Singh     60       70       65          195     C\n"
          ]
        }
      ]
    },
    {
      "cell_type": "markdown",
      "source": [
        "\n",
        "\n",
        "---\n",
        "\n"
      ],
      "metadata": {
        "id": "03VpliT7k5bR"
      }
    },
    {
      "cell_type": "markdown",
      "source": [
        "#110) Course Feedback Analysis – Gautam Buddh University\n",
        "\n",
        "*   At Gautam Buddh University, students give feedback on different courses after each semester.\n",
        "*   The feedback is collected on a scale of 1 to 5 (1 = poor, 5 = excellent).\n",
        "You are asked to:\n",
        "\n",
        "* Find average rating per course\n",
        "\n",
        "*  List top-rated courses\n",
        "\n",
        "* Identify courses needing improvement (average rating below 3)\n",
        "\n"
      ],
      "metadata": {
        "id": "RCvNHF1jlAxp"
      }
    },
    {
      "cell_type": "code",
      "source": [
        "import pandas as pd\n",
        "\n",
        "# Sample feedback data from students of Gautam Buddh University\n",
        "data = {\n",
        "    'Student': ['Anmol Kumar', 'Deepak Yadav', 'Riya Kumari', 'Pooja Singh', 'Vikas Singh', 'Neha Sharma'],\n",
        "    'Course': ['Python', 'Python', 'Data Science', 'Data Science', 'AI Ethics', 'AI Ethics'],\n",
        "    'Rating': [5, 4, 3, 4, 2, 3]\n",
        "}\n",
        "\n",
        "#create DataFrame\n",
        "df = pd.DataFrame(data)\n",
        "\n",
        "# calculate average rating per course\n",
        "avg_rating = df.groupby('Course')['Rating'].mean()\n",
        "\n",
        "# Filter top-rated courses (rating >= 4)\n",
        "top_courses = avg_rating[avg_rating >= 4]\n",
        "\n",
        "# Filter low-rated courses (rating < 3)\n",
        "low_courses = avg_rating[avg_rating < 3]\n",
        "\n",
        "# Display results\n",
        "print(\"Average Feedback Rating per Course:\")\n",
        "print(avg_rating)\n",
        "\n",
        "print(\"\\nTop Rated Courses:\")\n",
        "print(top_courses)\n",
        "\n",
        "print(\"\\nCourses Needing Improvement:\")\n",
        "print(low_courses)\n"
      ],
      "metadata": {
        "colab": {
          "base_uri": "https://localhost:8080/"
        },
        "id": "RWG1cpuklg_t",
        "outputId": "73434df5-a09d-4cb1-9c32-71ca3a72eb33"
      },
      "execution_count": null,
      "outputs": [
        {
          "output_type": "stream",
          "name": "stdout",
          "text": [
            "Average Feedback Rating per Course:\n",
            "Course\n",
            "AI Ethics       2.5\n",
            "Data Science    3.5\n",
            "Python          4.5\n",
            "Name: Rating, dtype: float64\n",
            "\n",
            "Top Rated Courses:\n",
            "Course\n",
            "Python    4.5\n",
            "Name: Rating, dtype: float64\n",
            "\n",
            "Courses Needing Improvement:\n",
            "Course\n",
            "AI Ethics    2.5\n",
            "Name: Rating, dtype: float64\n"
          ]
        }
      ]
    },
    {
      "cell_type": "markdown",
      "source": [
        "\n",
        "\n",
        "---\n",
        "\n",
        "\n",
        "\n",
        "---\n",
        "\n"
      ],
      "metadata": {
        "id": "JNNnWL8Wjp0v"
      }
    }
  ]
}